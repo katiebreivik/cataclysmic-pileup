{
 "cells": [
  {
   "cell_type": "code",
   "execution_count": 1,
   "id": "7a35934e-09a4-4f9c-9082-8e64150b747e",
   "metadata": {},
   "outputs": [],
   "source": [
    "from astroquery.gaia import Gaia\n",
    "import pandas as pd\n"
   ]
  },
  {
   "cell_type": "code",
   "execution_count": 2,
   "id": "1a1a159f-3c16-450b-828b-79ab84011fc1",
   "metadata": {},
   "outputs": [],
   "source": [
    "pala2020 = pd.read_csv('Pala+2020_data.txt', \n",
    "                       names=['name', 'DR2id', 'parallax', 'parallax_error', 'porb', \n",
    "                               'type', 'G', 'BP', 'RP', 'distance', 'distance_err'])"
   ]
  },
  {
   "cell_type": "code",
   "execution_count": 3,
   "id": "85b6d04f-2dce-456a-b3fd-56f4723a1108",
   "metadata": {},
   "outputs": [
    {
     "name": "stdout",
     "output_type": "stream",
     "text": [
      "[ 81.63 106.95  98.26  46.57  81.08 102.73  82.81 185.65 279.25  90.89\n",
      " 592.78 254.74  65.1   78.23  78.51 115.92  88.56  77.07  89.9  101.52\n",
      "  76.78 113.89 396.19 113.01 107.28 126.   112.97 109.38  84.7   87.11\n",
      "  86.3  101.03 113.64 113.47 298.31  81.   100.44  90.85 227.82 106.05\n",
      "  91.33  84.97  88.4   82.52]\n"
     ]
    }
   ],
   "source": [
    "print(pala2020.porb.values)"
   ]
  },
  {
   "cell_type": "code",
   "execution_count": 4,
   "id": "451bd24b-2997-49bd-a26e-14bcf3e8d06c",
   "metadata": {},
   "outputs": [],
   "source": [
    "pala_query = \"\"\"SELECT source_id, ra, dec\n",
    "              FROM gaiadr2.gaia_source as gaia\n",
    "              WHERE gaia.source_id IN (1809844934461976832,4653893040002306432,6185040879503491584,3938156295111047680,\n",
    "              1920126431748251776,2208124536065383424,2488974302977323008,2123837555230207744,5515820034889610112,\n",
    "              5242787486412627072,4226332451596335616,674214551557961984,3503987633230546688,2307289214897332480,\n",
    "              1800384942558699008,783921244796958208,3750072904055666176,2163612727665972096,4111991385628196224,\n",
    "              6096905573613586944,6226943645600487552,3996419759863758592,1972957892448494592,4503256687122329088,\n",
    "              5210507882302442368,285957277597658240,4476137370261520000,6039131391540808832,3800596876396315648,\n",
    "              5343601913741261312,3934459045528378368,6658737220627065984,4697621824327141248,1203639265875666304,\n",
    "              6688624794231054976,6008982469163902464,5719598950133755392,6896767366186700416,2824150286583562496,\n",
    "              426306363477869696,834947865750806272,935056333580267392,3699606286708406912,1558322303741820928)\"\"\"\n"
   ]
  },
  {
   "cell_type": "code",
   "execution_count": 5,
   "id": "71f74925-1409-4289-9d41-ed12b0b4d721",
   "metadata": {},
   "outputs": [],
   "source": [
    "pala_job = Gaia.launch_job(pala_query)\n",
    "\n",
    "pala_dat = pala_job.results"
   ]
  },
  {
   "cell_type": "code",
   "execution_count": null,
   "id": "4f588462-5e67-47e7-a99c-4cdfdce0859a",
   "metadata": {},
   "outputs": [],
   "source": []
  },
  {
   "cell_type": "code",
   "execution_count": 6,
   "id": "4c3d6c74-76cb-417b-a44f-e28dd1279cbf",
   "metadata": {},
   "outputs": [],
   "source": [
    "pala2020['ra'] = pala_dat.to_pandas().ra.values\n",
    "pala2020['dec'] = pala_dat.to_pandas().dec.values"
   ]
  },
  {
   "cell_type": "code",
   "execution_count": 7,
   "id": "bf022ba3-587c-458b-bf8a-8f38104c2f26",
   "metadata": {},
   "outputs": [],
   "source": [
    "pala2020.to_hdf('Pala_2020_dat_combo.h5', key='dat')"
   ]
  },
  {
   "cell_type": "code",
   "execution_count": null,
   "id": "0fcca007-ca03-483f-b775-4589ba8ce09c",
   "metadata": {},
   "outputs": [],
   "source": []
  }
 ],
 "metadata": {
  "kernelspec": {
   "display_name": "Python 3 (ipykernel)",
   "language": "python",
   "name": "python3"
  },
  "language_info": {
   "codemirror_mode": {
    "name": "ipython",
    "version": 3
   },
   "file_extension": ".py",
   "mimetype": "text/x-python",
   "name": "python",
   "nbconvert_exporter": "python",
   "pygments_lexer": "ipython3",
   "version": "3.10.4"
  }
 },
 "nbformat": 4,
 "nbformat_minor": 5
}
