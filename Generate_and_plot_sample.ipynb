{
 "cells": [
  {
   "cell_type": "code",
   "execution_count": null,
   "id": "e5c9d2d1-6432-4ecc-b7c7-e5bded7f220a",
   "metadata": {},
   "outputs": [],
   "source": [
    "import numpy as np\n",
    "import matplotlib.pyplot as plt\n",
    "import astropy.units as u\n",
    "import pandas as pd\n",
    "from legwork import utils, strain, psd, source\n",
    "from astropy.coordinates import SkyCoord\n",
    "from CV_pop import sample_porb_from_Knigge_2011\n",
    "import scipy.stats as stats\n",
    "from astropy.coordinates import get_body_barycentric\n",
    "from astropy.time import Time\n"
   ]
  },
  {
   "cell_type": "code",
   "execution_count": null,
   "id": "fff06e17-5aa9-4fd0-bd31-e4abb1bf1b09",
   "metadata": {},
   "outputs": [],
   "source": [
    "\n",
    "max_distance = 500 # parsecs: must be larger than 150!\n",
    "!python3 CV_pop.py --max-distance {max_distance} --mu-m1 0.7 --sigma-m1 0.001 --sigma-m2 0.001\n"
   ]
  },
  {
   "cell_type": "code",
   "execution_count": null,
   "id": "ce2e316f-8977-4e38-a0fc-68bda795b587",
   "metadata": {},
   "outputs": [],
   "source": [
    "filename = f\"dat_maxDistance_{max_distance}.txt\"\n",
    "dat = pd.read_csv(filename)\n",
    "\n"
   ]
  },
  {
   "cell_type": "code",
   "execution_count": null,
   "id": "f8b0d62a-2039-4691-8a69-3cde69de7d96",
   "metadata": {},
   "outputs": [],
   "source": [
    "dat = dat.rename(columns={'# m1[Msun]':'m1',\n",
    "                          ' m2[Msun]':'m2',\n",
    "                          ' inclination[rad]':'inc',\n",
    "                          ' f_gw[Hz]':'f_gw',\n",
    "                          ' x_gal[kpc]':'x', \n",
    "                          ' y_gal[kpc]':'y', \n",
    "                          ' z_gal[kpc]':'z',\n",
    "                          ' Pala_reassigned' : 'pala'})\n"
   ]
  },
  {
   "cell_type": "code",
   "execution_count": null,
   "id": "16ff7453-d280-47d9-aff6-ee597852b8a7",
   "metadata": {},
   "outputs": [],
   "source": [
    "KT = pd.read_csv('kniggeTable.csv')\n",
    "PT = pd.read_hdf('Pala_2020_dat_combo.h5')"
   ]
  },
  {
   "cell_type": "code",
   "execution_count": null,
   "id": "5fb3659f-518c-4464-8178-70898ea2789f",
   "metadata": {},
   "outputs": [],
   "source": [
    "plt.figure(figsize=(6, 4))\n",
    "plt.hist(1/(dat.f_gw/2) / 3600, bins=50, density=True, histtype='step', label=f'{max_distance} pc sample')\n",
    "#plt.hist(KT.Per, density=True, bins=50, histtype='step', label='Knigge+2011 histogram')\n",
    "plt.hist(PT.porb/60, density=True, histtype='step', bins=50, label='Pala+2020 histogram')\n",
    "plt.xlabel('porb [hr]', size=12)\n",
    "plt.ylabel('count density', size=12)\n",
    "plt.legend(prop={'size':12})\n",
    "plt.tick_params('both', labelsize=10)\n",
    "plt.xlim(1, 5.5)\n",
    "plt.savefig(\"porb.png\")\n"
   ]
  },
  {
   "cell_type": "code",
   "execution_count": null,
   "id": "308ab0ca-be1e-49ea-98a1-8577a3b99037",
   "metadata": {},
   "outputs": [],
   "source": [
    "fig = plt.figure(figsize=(6, 4))\n",
    "plt.scatter(dat['f_gw']*1000, dat['m2'], s=5)\n",
    "plt.scatter(dat.loc[dat.pala > 0].f_gw*1000, dat.loc[dat.pala > 0].m2, s=15)\n",
    "plt.xlabel('GW frequency [mHz]', size=12)\n",
    "plt.ylabel('Donor mass [$M_{\\odot}$]', size=12)\n",
    "plt.tick_params('both', labelsize=10)\n"
   ]
  },
  {
   "cell_type": "code",
   "execution_count": null,
   "id": "4b3abd40-12bb-43c6-8d0c-36c26845226e",
   "metadata": {},
   "outputs": [],
   "source": [
    "c = SkyCoord(dat.x, dat.y, dat.z, unit=u.kpc, frame='galactocentric')\n",
    "\n",
    "dist = c.icrs.distance\n",
    "\n",
    "mc = utils.chirp_mass(dat['m1'].values * u.Msun, dat['m2'].values * u.Msun)"
   ]
  },
  {
   "cell_type": "code",
   "execution_count": null,
   "id": "7c5eb616-011c-4248-b366-6123e2b7739e",
   "metadata": {},
   "outputs": [],
   "source": [
    "sources = source.Source(m_1=dat['m1'].values * u.Msun, m_2=dat['m2'].values * u.Msun, \n",
    "                        ecc=np.zeros_like(dat['m1'].values), dist=dist, f_orb=dat['f_gw'].values/2 * u.Hz,\n",
    "                        interpolate_g=False)"
   ]
  },
  {
   "cell_type": "code",
   "execution_count": null,
   "id": "bc8ec514-127f-4324-9385-ff7ffd26be17",
   "metadata": {},
   "outputs": [],
   "source": [
    "snr = sources.get_snr()\n",
    "ASD = strain.h_0_n(m_c=mc, f_orb=dat['f_gw'].values/2 * u.Hz,  \n",
    "                   ecc=np.zeros(len(mc)), dist=dist, \n",
    "                   n=2, position=None, polarisation=None, \n",
    "                   inclination=None, interpolated_g=None) * np.sqrt(4 * 3.155e7)\n",
    "    "
   ]
  },
  {
   "cell_type": "code",
   "execution_count": null,
   "id": "544098ab-c60d-4b8c-9d57-bb6701ebc7c8",
   "metadata": {},
   "outputs": [],
   "source": [
    "ind, = np.where(dat.pala == 1)\n",
    "indD, = np.where(dat.pala==2)\n",
    "\n",
    "c = SkyCoord(dat.x, dat.y, dat.z, unit=u.kpc, frame='galactocentric', representation_type='cartesian')\n",
    "d = c.transform_to('barycentrictrueecliptic')\n",
    "d_rounded = np.around(d.distance, decimals=5)\n",
    "\n",
    "indCheck150, = np.where(d_rounded <= 0.15*u.kpc)\n",
    "\n",
    "print(ind.shape)\n",
    "print(indD.shape)\n",
    "print(indCheck150.shape)\n",
    "\n",
    "\n",
    "\n",
    "\n",
    "# Sanity check: what is the space density of the sample? Should be just under 4.8e-6 N/pc^3\n",
    "Nsources = d.shape[0] # total number of sources in the sample\n",
    "Vol = np.pi*max_distance**3 # total volume of the sample in pc^3\n",
    "print(\"Total number of sources:\",Nsources)\n",
    "print(\"Total volume:\", Vol)\n",
    "print('Recovered space density:', Nsources/Vol)\n",
    "\n",
    "# Another check is to plot the distribution of sources in the z direction\n",
    "\n",
    "print(d.distance.min())\n",
    "plt.figure(figsize=(6, 4))\n",
    "plt.hist((np.array(d.distance)), bins=50, density=True, histtype='step', label='800 pc sample')\n",
    "plt.xlabel('distance [kpc]', size=12)\n",
    "\n",
    "frequency_range = frequency_range=np.logspace(-5, 0, 1000) * u.Hz\n",
    "LISA = psd.lisa_psd(frequency_range, approximate_R=False, confusion_noise='robson19')\n",
    "\n",
    "\n",
    "# Print orbital periods of S/N>4 sources.\n",
    "palaSNR = snr[ind]\n",
    "indH = np.where(palaSNR > 4)\n",
    "#print(palaSNR)\n",
    "print(palaSNR[indH])    \n",
    "print(1/(dat.f_gw[ind[indH]]/2) / 60)\n"
   ]
  },
  {
   "cell_type": "code",
   "execution_count": null,
   "id": "eed2a558-14b2-4fd4-8e15-77254a5c3e8a",
   "metadata": {},
   "outputs": [],
   "source": [
    "fig = plt.figure(figsize=(8, 6))\n",
    "\n",
    "\n",
    "plt.plot(frequency_range, LISA**0.5, lw=1, c='black')   \n",
    "plt.scatter(dat.f_gw, ASD, s=10, label=f'{max_distance} pc sample')\n",
    "#plt.scatter(dat.f_gw[indD], ASD[indD], s=10, label='150 pc sample')\n",
    "plt.scatter(dat.loc[dat.pala == 2].f_gw, ASD[indD], s=20, label='150pc')\n",
    "plt.scatter(dat.loc[dat.pala == 1].f_gw, ASD[ind], s=20, label='Pala+2020')\n",
    "plt.legend(prop={'size':12})\n",
    "plt.yscale('log')\n",
    "plt.xscale('log')\n",
    "plt.xlim(4e-5, 2e-3)\n",
    "plt.ylim(1e-19, 1e-16)\n",
    "plt.xlabel('GW frequency [Hz]', size=12)\n",
    "plt.ylabel('ASD [Hz$^{-1/2}$]', size=12)\n",
    "plt.tick_params('both', labelsize=10)\n",
    "\n",
    "plt.savefig(\"asd.png\")"
   ]
  }
 ],
 "metadata": {
  "kernelspec": {
   "display_name": "Python 3 (ipykernel)",
   "language": "python",
   "name": "python3"
  },
  "language_info": {
   "codemirror_mode": {
    "name": "ipython",
    "version": 3
   },
   "file_extension": ".py",
   "mimetype": "text/x-python",
   "name": "python",
   "nbconvert_exporter": "python",
   "pygments_lexer": "ipython3",
   "version": "3.10.4"
  }
 },
 "nbformat": 4,
 "nbformat_minor": 5
}
